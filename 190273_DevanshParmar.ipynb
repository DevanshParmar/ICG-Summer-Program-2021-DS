{
  "nbformat": 4,
  "nbformat_minor": 0,
  "metadata": {
    "colab": {
      "name": "190273_DevanshParmar.ipynb",
      "provenance": [],
      "collapsed_sections": [],
      "authorship_tag": "ABX9TyNPRjWgOree/tTikn8TlRBO",
      "include_colab_link": true
    },
    "kernelspec": {
      "name": "python3",
      "display_name": "Python 3"
    },
    "language_info": {
      "name": "python"
    }
  },
  "cells": [
    {
      "cell_type": "markdown",
      "metadata": {
        "id": "view-in-github",
        "colab_type": "text"
      },
      "source": [
        "<a href=\"https://colab.research.google.com/github/DevanshParmar/ICG-Summer-Program-2021-DS/blob/main/190273_DevanshParmar.ipynb\" target=\"_parent\"><img src=\"https://colab.research.google.com/assets/colab-badge.svg\" alt=\"Open In Colab\"/></a>"
      ]
    },
    {
      "cell_type": "code",
      "metadata": {
        "id": "YUeghG6C-1jc"
      },
      "source": [
        "import numpy as np\n",
        "import pandas as pd\n",
        "import matplotlib.pyplot as plt\n",
        "import seaborn as sns\n",
        "from google.colab import files"
      ],
      "execution_count": null,
      "outputs": []
    },
    {
      "cell_type": "code",
      "metadata": {
        "id": "q5ycTCma-1la"
      },
      "source": [
        "#Uploading Training CSV File\n",
        "upload_train = files.upload()\n",
        "upload_train"
      ],
      "execution_count": null,
      "outputs": []
    },
    {
      "cell_type": "code",
      "metadata": {
        "id": "9Moc5MJu-1nx"
      },
      "source": [
        "#Making a dataframe, and necessary changes, such as deleting PassId and converting Sex to male=1, female=0 objective case.\n",
        "col_names = ['PassId', 'Survived', 'PClass', 'Sex', 'Age', 'SibSp', 'ParCh', 'Fare']\n",
        "data = pd.read_csv('/content/train.csv')\n",
        "data.columns = col_names\n",
        "data.pop(\"PassId\")\n",
        "ifmale = pd.get_dummies(data['Sex'], drop_first = True)\n",
        "data = pd.concat([data, ifmale], axis = 1)\n",
        "data.pop(\"Sex\")\n",
        "data"
      ],
      "execution_count": null,
      "outputs": []
    },
    {
      "cell_type": "code",
      "metadata": {
        "id": "XH6mftVo-1qE"
      },
      "source": [
        "#Checking the plot of Age, to fill NaN Age values\n",
        "sns.distplot(data.Age)"
      ],
      "execution_count": null,
      "outputs": []
    },
    {
      "cell_type": "code",
      "metadata": {
        "id": "Ckb4d_I3_B1p"
      },
      "source": [
        "#Filling NaN Age values with median age\n",
        "data['Age'] = data['Age'].fillna(data['Age'].median())\n",
        "data"
      ],
      "execution_count": null,
      "outputs": []
    },
    {
      "cell_type": "code",
      "metadata": {
        "id": "TVyypGJf_Bz2"
      },
      "source": [
        "#Sending to NumPy\n",
        "input_train = data[['PClass', 'Age', 'SibSp', 'ParCh', 'Fare', 'male']].to_numpy()\n",
        "output_train = data['Survived'].to_numpy()\n",
        "input_train.shape, len(output_train)"
      ],
      "execution_count": null,
      "outputs": []
    },
    {
      "cell_type": "code",
      "metadata": {
        "id": "Ef2OAy56_Bx_"
      },
      "source": [
        "#Uploading Test CSV File\n",
        "upload_test = files.upload()\n",
        "upload_test"
      ],
      "execution_count": null,
      "outputs": []
    },
    {
      "cell_type": "code",
      "metadata": {
        "id": "HfBkquR__Bv7"
      },
      "source": [
        "#Making a dataframe, and necessary changes, such as deleting PassId and converting Sex to male=1, female=0 objective case.\n",
        "col_names = ['PassId', 'Survived', 'PClass', 'Sex', 'Age', 'SibSp', 'ParCh', 'Fare']\n",
        "test = pd.read_csv('/content/test.csv')\n",
        "test.columns = col_names\n",
        "test.pop(\"PassId\")\n",
        "ifmale = pd.get_dummies(test['Sex'], drop_first = True)\n",
        "test = pd.concat([test, ifmale], axis = 1)\n",
        "test.pop(\"Sex\")"
      ],
      "execution_count": null,
      "outputs": []
    },
    {
      "cell_type": "code",
      "metadata": {
        "id": "2hFWZO4A_BkF"
      },
      "source": [
        "#Sending to NumPy\n",
        "input_test = test[['PClass','Age','SibSp','ParCh','Fare','male']]\n",
        "input_test = input_test.to_numpy()\n",
        "output_test = test['Survived'].to_numpy()\n",
        "input_test.shape,len(output_test)"
      ],
      "execution_count": null,
      "outputs": []
    },
    {
      "cell_type": "code",
      "metadata": {
        "id": "5kQOSNy__BhD"
      },
      "source": [
        "#Sigmoid Function\n",
        "def g(z):\n",
        "    return 1/(1+np.exp(-z))"
      ],
      "execution_count": null,
      "outputs": []
    },
    {
      "cell_type": "code",
      "metadata": {
        "id": "ltRfH0wO_Beq"
      },
      "source": [
        "#Optimization\n",
        "def optimize(x, y, learning_rate, N_iterations, parameters):\n",
        "    size = x.shape[0] #620\n",
        "    weights = parameters[\"weights\"] #theta1-6\n",
        "    bias = parameters[\"bias\"] #theta0\n",
        "    for i in range(N_iterations):\n",
        "        h = g(bias + np.dot(x, weights)) #h becomes the hypothesis function\n",
        "        loss = -1/size * np.sum(y * np.log(h)) + (1 - y) * np.log(1-h) #log-likelihood\n",
        "        del_weights = 1/size * np.dot(x.T, (h-y)) #change in weights\n",
        "        del_bias = 1/size * np.sum(h-y) #change in bias\n",
        "        weights = weights - learning_rate * del_weights #learning\n",
        "        bias = bias - learning_rate * del_bias #learning\n",
        "    \n",
        "    parameters[\"weights\"] = weights\n",
        "    parameters[\"bias\"] = bias\n",
        "    return parameters"
      ],
      "execution_count": null,
      "outputs": []
    },
    {
      "cell_type": "code",
      "metadata": {
        "id": "9hv9XF7b_RCo"
      },
      "source": [
        "#Defining Initial Parameters as 0\n",
        "initial_parameters = {}\n",
        "initial_parameters[\"weights\"] = np.zeros(input_train.shape[1])\n",
        "initial_parameters[\"bias\"] = 0"
      ],
      "execution_count": null,
      "outputs": []
    },
    {
      "cell_type": "code",
      "metadata": {
        "id": "aLdhOL7r_Q_f"
      },
      "source": [
        "#Training\n",
        "def train(x, y, lr, N_it):\n",
        "    return optimize(x, y, lr, N_it, initial_parameters)"
      ],
      "execution_count": null,
      "outputs": []
    },
    {
      "cell_type": "code",
      "metadata": {
        "id": "W_Oe3Nvn_Q9b"
      },
      "source": [
        "#Trained, Final Theta Parameters\n",
        "theta = train(input_train, output_train, lr = 0.005, N_it = 5000)\n",
        "theta"
      ],
      "execution_count": null,
      "outputs": []
    },
    {
      "cell_type": "code",
      "metadata": {
        "id": "YitZJMM2_WhV"
      },
      "source": [
        "#Prediction\n",
        "z = theta[\"bias\"] + np.dot(input_test, theta[\"weights\"])\n",
        "predicted_output = g(z)\n",
        "predicted_output = [1 if p >= 0.5 else 0 for p in predicted_output]\n",
        "predicted_output"
      ],
      "execution_count": null,
      "outputs": []
    },
    {
      "cell_type": "code",
      "metadata": {
        "id": "iofijbwZ_Wfk"
      },
      "source": [
        "#Prediction Accuracy\n",
        "accuracy = 0\n",
        "for i in range(len(predicted_output)):\n",
        "    if predicted_output[i] == output_test[i]:\n",
        "        accuracy += 1\n",
        "accuracy *= 100\n",
        "print(f\"Accuracy = {accuracy / len(predicted_output)}\")"
      ],
      "execution_count": null,
      "outputs": []
    },
    {
      "cell_type": "markdown",
      "metadata": {
        "id": "XRYQhi5b_Zm1"
      },
      "source": [
        "References used:\n",
        "\n",
        "1. https://see.stanford.edu/materials/aimlcs229/cs229-notes1.pdf\n",
        "2. https://towardsdatascience.com/building-a-logistic-regression-in-python-step-by-step-becd4d56c9c8\n",
        "3. https://towardsdatascience.com/optimization-loss-function-under-the-hood-part-ii-d20a239cde11"
      ]
    }
  ]
}