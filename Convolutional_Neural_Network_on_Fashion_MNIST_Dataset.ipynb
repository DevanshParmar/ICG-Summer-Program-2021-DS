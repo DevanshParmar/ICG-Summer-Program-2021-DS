{
  "nbformat": 4,
  "nbformat_minor": 0,
  "metadata": {
    "colab": {
      "name": "Convolutional Neural Network on Fashion MNIST Dataset.ipynb",
      "provenance": [],
      "authorship_tag": "ABX9TyNYMu5EN5Jau6y0TTdHVqqd",
      "include_colab_link": true
    },
    "kernelspec": {
      "name": "python3",
      "display_name": "Python 3"
    },
    "language_info": {
      "name": "python"
    },
    "accelerator": "GPU"
  },
  "cells": [
    {
      "cell_type": "markdown",
      "metadata": {
        "id": "view-in-github",
        "colab_type": "text"
      },
      "source": [
        "<a href=\"https://colab.research.google.com/github/DevanshParmar/ICG-Summer-Program-2021-DS/blob/main/Convolutional_Neural_Network_on_Fashion_MNIST_Dataset.ipynb\" target=\"_parent\"><img src=\"https://colab.research.google.com/assets/colab-badge.svg\" alt=\"Open In Colab\"/></a>"
      ]
    },
    {
      "cell_type": "code",
      "metadata": {
        "id": "q6hAfkeBhiEM"
      },
      "source": [
        "import numpy as np\n",
        "import pandas as pd\n",
        "import tensorflow as tf\n",
        "import matplotlib.pyplot as plt\n",
        "import keras\n",
        "\n",
        "from sklearn.model_selection import train_test_split\n",
        "\n",
        "from keras.models import Sequential\n",
        "from keras.layers import Conv2D, MaxPooling2D, Dense, Flatten, Dropout, Activation, BatchNormalization\n",
        "from keras.optimizers import Adam\n",
        "from keras.datasets import fashion_mnist"
      ],
      "execution_count": 1,
      "outputs": []
    },
    {
      "cell_type": "code",
      "metadata": {
        "id": "oFG00EDDhvpO",
        "colab": {
          "base_uri": "https://localhost:8080/"
        },
        "outputId": "19ac87ac-00b5-49da-a409-f27f9f645c3f"
      },
      "source": [
        "(X_train, Y_train), (X_test, Y_test) = fashion_mnist.load_data()\n",
        "assert X_train.shape == (60000, 28, 28)\n",
        "assert X_test.shape == (10000, 28, 28)\n",
        "assert Y_train.shape == (60000,)\n",
        "assert Y_test.shape == (10000,)"
      ],
      "execution_count": 2,
      "outputs": [
        {
          "output_type": "stream",
          "text": [
            "Downloading data from https://storage.googleapis.com/tensorflow/tf-keras-datasets/train-labels-idx1-ubyte.gz\n",
            "32768/29515 [=================================] - 0s 0us/step\n",
            "40960/29515 [=========================================] - 0s 0us/step\n",
            "Downloading data from https://storage.googleapis.com/tensorflow/tf-keras-datasets/train-images-idx3-ubyte.gz\n",
            "26427392/26421880 [==============================] - 0s 0us/step\n",
            "26435584/26421880 [==============================] - 0s 0us/step\n",
            "Downloading data from https://storage.googleapis.com/tensorflow/tf-keras-datasets/t10k-labels-idx1-ubyte.gz\n",
            "16384/5148 [===============================================================================================] - 0s 0us/step\n",
            "Downloading data from https://storage.googleapis.com/tensorflow/tf-keras-datasets/t10k-images-idx3-ubyte.gz\n",
            "4423680/4422102 [==============================] - 0s 0us/step\n",
            "4431872/4422102 [==============================] - 0s 0us/step\n"
          ],
          "name": "stdout"
        }
      ]
    },
    {
      "cell_type": "code",
      "metadata": {
        "id": "CXHEuirjsLcJ",
        "colab": {
          "base_uri": "https://localhost:8080/"
        },
        "outputId": "ea358d9d-0a01-4c9d-cd40-7e6b6d08c316"
      },
      "source": [
        "X_train, X_validate, Y_train, Y_validate = train_test_split(X_train, Y_train, test_size = 0.2) #random_state=12345)\n",
        "X_train.shape[0]"
      ],
      "execution_count": 3,
      "outputs": [
        {
          "output_type": "execute_result",
          "data": {
            "text/plain": [
              "48000"
            ]
          },
          "metadata": {
            "tags": []
          },
          "execution_count": 3
        }
      ]
    },
    {
      "cell_type": "code",
      "metadata": {
        "id": "IVGQ17tw_hWG"
      },
      "source": [
        "im_rows = 28\n",
        "im_cols = 28\n",
        "n_batch_size = 500\n",
        "n_epochs = 50\n",
        "im_shape = (im_rows, im_cols, 1)\n",
        "\n",
        "X_train = X_train.reshape(X_train.shape[0], *im_shape)\n",
        "X_test = X_test.reshape(X_test.shape[0], *im_shape)\n",
        "X_validate = X_validate.reshape(X_validate.shape[0], *im_shape)"
      ],
      "execution_count": 4,
      "outputs": []
    },
    {
      "cell_type": "code",
      "metadata": {
        "id": "Zy7yUppUIMPF"
      },
      "source": [
        "cnn_model = Sequential([\n",
        "    Conv2D(filters=32, kernel_size=3, input_shape=im_shape, activation='relu'),\n",
        "    BatchNormalization(),\n",
        "    Conv2D(filters=32, kernel_size=3, activation='relu'),\n",
        "    BatchNormalization(),\n",
        "    MaxPooling2D(pool_size=4),\n",
        "    Dropout(0.3),\n",
        "\n",
        "    Flatten(),\n",
        "    Dense(512, activation='relu'),\n",
        "    BatchNormalization(),\n",
        "    Dropout(0.3),\n",
        "    Dense(128, activation='relu'),\n",
        "    Dropout(0.3),\n",
        "    Dense(10, activation='softmax')\n",
        "])"
      ],
      "execution_count": 5,
      "outputs": []
    },
    {
      "cell_type": "code",
      "metadata": {
        "id": "2EkNauy5dnmY",
        "colab": {
          "base_uri": "https://localhost:8080/"
        },
        "outputId": "30495d58-a0e9-4ab1-8e58-3b80e83e0af6"
      },
      "source": [
        "cnn_model.compile(\n",
        "    optimizer=Adam(learning_rate=0.00095),\n",
        "    loss='sparse_categorical_crossentropy',\n",
        "    metrics=['accuracy']\n",
        ")\n",
        "\n",
        "cnnm = cnn_model.fit(\n",
        "    X_train, Y_train, batch_size=n_batch_size,\n",
        "    epochs=n_epochs, verbose=1,\n",
        "    validation_data = (X_validate, Y_validate),\n",
        ")"
      ],
      "execution_count": 6,
      "outputs": [
        {
          "output_type": "stream",
          "text": [
            "Epoch 1/50\n",
            "96/96 [==============================] - 52s 47ms/step - loss: 0.9631 - accuracy: 0.6868 - val_loss: 0.4449 - val_accuracy: 0.8302\n",
            "Epoch 2/50\n",
            "96/96 [==============================] - 4s 39ms/step - loss: 0.4136 - accuracy: 0.8481 - val_loss: 0.3199 - val_accuracy: 0.8811\n",
            "Epoch 3/50\n",
            "96/96 [==============================] - 4s 38ms/step - loss: 0.3415 - accuracy: 0.8716 - val_loss: 0.2831 - val_accuracy: 0.8953\n",
            "Epoch 4/50\n",
            "96/96 [==============================] - 4s 39ms/step - loss: 0.3080 - accuracy: 0.8865 - val_loss: 0.2624 - val_accuracy: 0.9059\n",
            "Epoch 5/50\n",
            "96/96 [==============================] - 4s 39ms/step - loss: 0.2775 - accuracy: 0.8976 - val_loss: 0.2472 - val_accuracy: 0.9079\n",
            "Epoch 6/50\n",
            "96/96 [==============================] - 4s 39ms/step - loss: 0.2623 - accuracy: 0.9013 - val_loss: 0.2497 - val_accuracy: 0.9050\n",
            "Epoch 7/50\n",
            "96/96 [==============================] - 4s 39ms/step - loss: 0.2437 - accuracy: 0.9086 - val_loss: 0.2385 - val_accuracy: 0.9089\n",
            "Epoch 8/50\n",
            "96/96 [==============================] - 4s 38ms/step - loss: 0.2317 - accuracy: 0.9129 - val_loss: 0.2253 - val_accuracy: 0.9169\n",
            "Epoch 9/50\n",
            "96/96 [==============================] - 4s 39ms/step - loss: 0.2169 - accuracy: 0.9160 - val_loss: 0.2245 - val_accuracy: 0.9181\n",
            "Epoch 10/50\n",
            "96/96 [==============================] - 4s 38ms/step - loss: 0.2052 - accuracy: 0.9229 - val_loss: 0.2137 - val_accuracy: 0.9225\n",
            "Epoch 11/50\n",
            "96/96 [==============================] - 4s 38ms/step - loss: 0.2000 - accuracy: 0.9238 - val_loss: 0.2191 - val_accuracy: 0.9215\n",
            "Epoch 12/50\n",
            "96/96 [==============================] - 4s 38ms/step - loss: 0.1871 - accuracy: 0.9280 - val_loss: 0.2206 - val_accuracy: 0.9194\n",
            "Epoch 13/50\n",
            "96/96 [==============================] - 4s 39ms/step - loss: 0.1849 - accuracy: 0.9304 - val_loss: 0.2039 - val_accuracy: 0.9262\n",
            "Epoch 14/50\n",
            "96/96 [==============================] - 4s 39ms/step - loss: 0.1758 - accuracy: 0.9337 - val_loss: 0.2081 - val_accuracy: 0.9264\n",
            "Epoch 15/50\n",
            "96/96 [==============================] - 4s 38ms/step - loss: 0.1699 - accuracy: 0.9350 - val_loss: 0.2174 - val_accuracy: 0.9233\n",
            "Epoch 16/50\n",
            "96/96 [==============================] - 4s 39ms/step - loss: 0.1661 - accuracy: 0.9365 - val_loss: 0.2134 - val_accuracy: 0.9220\n",
            "Epoch 17/50\n",
            "96/96 [==============================] - 4s 38ms/step - loss: 0.1539 - accuracy: 0.9406 - val_loss: 0.2329 - val_accuracy: 0.9130\n",
            "Epoch 18/50\n",
            "96/96 [==============================] - 4s 39ms/step - loss: 0.1516 - accuracy: 0.9416 - val_loss: 0.2072 - val_accuracy: 0.9253\n",
            "Epoch 19/50\n",
            "96/96 [==============================] - 4s 39ms/step - loss: 0.1441 - accuracy: 0.9463 - val_loss: 0.2100 - val_accuracy: 0.9277\n",
            "Epoch 20/50\n",
            "96/96 [==============================] - 4s 38ms/step - loss: 0.1403 - accuracy: 0.9463 - val_loss: 0.2026 - val_accuracy: 0.9297\n",
            "Epoch 21/50\n",
            "96/96 [==============================] - 4s 38ms/step - loss: 0.1331 - accuracy: 0.9496 - val_loss: 0.2210 - val_accuracy: 0.9238\n",
            "Epoch 22/50\n",
            "96/96 [==============================] - 4s 39ms/step - loss: 0.1327 - accuracy: 0.9499 - val_loss: 0.2176 - val_accuracy: 0.9252\n",
            "Epoch 23/50\n",
            "96/96 [==============================] - 4s 38ms/step - loss: 0.1283 - accuracy: 0.9496 - val_loss: 0.2081 - val_accuracy: 0.9311\n",
            "Epoch 24/50\n",
            "96/96 [==============================] - 4s 39ms/step - loss: 0.1184 - accuracy: 0.9550 - val_loss: 0.2315 - val_accuracy: 0.9215\n",
            "Epoch 25/50\n",
            "96/96 [==============================] - 4s 39ms/step - loss: 0.1169 - accuracy: 0.9574 - val_loss: 0.2084 - val_accuracy: 0.9302\n",
            "Epoch 26/50\n",
            "96/96 [==============================] - 4s 38ms/step - loss: 0.1113 - accuracy: 0.9571 - val_loss: 0.2141 - val_accuracy: 0.9298\n",
            "Epoch 27/50\n",
            "96/96 [==============================] - 4s 39ms/step - loss: 0.1127 - accuracy: 0.9566 - val_loss: 0.2137 - val_accuracy: 0.9299\n",
            "Epoch 28/50\n",
            "96/96 [==============================] - 4s 38ms/step - loss: 0.1048 - accuracy: 0.9604 - val_loss: 0.2108 - val_accuracy: 0.9302\n",
            "Epoch 29/50\n",
            "96/96 [==============================] - 4s 38ms/step - loss: 0.1062 - accuracy: 0.9596 - val_loss: 0.2156 - val_accuracy: 0.9310\n",
            "Epoch 30/50\n",
            "96/96 [==============================] - 4s 38ms/step - loss: 0.0996 - accuracy: 0.9615 - val_loss: 0.2099 - val_accuracy: 0.9316\n",
            "Epoch 31/50\n",
            "96/96 [==============================] - 4s 38ms/step - loss: 0.0993 - accuracy: 0.9612 - val_loss: 0.2286 - val_accuracy: 0.9264\n",
            "Epoch 32/50\n",
            "96/96 [==============================] - 4s 38ms/step - loss: 0.1008 - accuracy: 0.9612 - val_loss: 0.2230 - val_accuracy: 0.9310\n",
            "Epoch 33/50\n",
            "96/96 [==============================] - 4s 39ms/step - loss: 0.0913 - accuracy: 0.9651 - val_loss: 0.2322 - val_accuracy: 0.9280\n",
            "Epoch 34/50\n",
            "96/96 [==============================] - 4s 38ms/step - loss: 0.0873 - accuracy: 0.9682 - val_loss: 0.2465 - val_accuracy: 0.9252\n",
            "Epoch 35/50\n",
            "96/96 [==============================] - 4s 39ms/step - loss: 0.0888 - accuracy: 0.9663 - val_loss: 0.2234 - val_accuracy: 0.9304\n",
            "Epoch 36/50\n",
            "96/96 [==============================] - 4s 38ms/step - loss: 0.0892 - accuracy: 0.9665 - val_loss: 0.2347 - val_accuracy: 0.9299\n",
            "Epoch 37/50\n",
            "96/96 [==============================] - 4s 39ms/step - loss: 0.0853 - accuracy: 0.9684 - val_loss: 0.2391 - val_accuracy: 0.9287\n",
            "Epoch 38/50\n",
            "96/96 [==============================] - 4s 39ms/step - loss: 0.0833 - accuracy: 0.9669 - val_loss: 0.2225 - val_accuracy: 0.9308\n",
            "Epoch 39/50\n",
            "96/96 [==============================] - 4s 38ms/step - loss: 0.0830 - accuracy: 0.9689 - val_loss: 0.2318 - val_accuracy: 0.9341\n",
            "Epoch 40/50\n",
            "96/96 [==============================] - 4s 39ms/step - loss: 0.0787 - accuracy: 0.9703 - val_loss: 0.2432 - val_accuracy: 0.9308\n",
            "Epoch 41/50\n",
            "96/96 [==============================] - 4s 39ms/step - loss: 0.0747 - accuracy: 0.9720 - val_loss: 0.2392 - val_accuracy: 0.9301\n",
            "Epoch 42/50\n",
            "96/96 [==============================] - 4s 39ms/step - loss: 0.0752 - accuracy: 0.9718 - val_loss: 0.2533 - val_accuracy: 0.9289\n",
            "Epoch 43/50\n",
            "96/96 [==============================] - 4s 39ms/step - loss: 0.0743 - accuracy: 0.9728 - val_loss: 0.2472 - val_accuracy: 0.9293\n",
            "Epoch 44/50\n",
            "96/96 [==============================] - 4s 38ms/step - loss: 0.0707 - accuracy: 0.9736 - val_loss: 0.2650 - val_accuracy: 0.9218\n",
            "Epoch 45/50\n",
            "96/96 [==============================] - 4s 38ms/step - loss: 0.0760 - accuracy: 0.9721 - val_loss: 0.2402 - val_accuracy: 0.9323\n",
            "Epoch 46/50\n",
            "96/96 [==============================] - 4s 39ms/step - loss: 0.0696 - accuracy: 0.9745 - val_loss: 0.2544 - val_accuracy: 0.9277\n",
            "Epoch 47/50\n",
            "96/96 [==============================] - 4s 39ms/step - loss: 0.0685 - accuracy: 0.9737 - val_loss: 0.2385 - val_accuracy: 0.9326\n",
            "Epoch 48/50\n",
            "96/96 [==============================] - 4s 38ms/step - loss: 0.0623 - accuracy: 0.9774 - val_loss: 0.2473 - val_accuracy: 0.9321\n",
            "Epoch 49/50\n",
            "96/96 [==============================] - 4s 38ms/step - loss: 0.0629 - accuracy: 0.9757 - val_loss: 0.2490 - val_accuracy: 0.9325\n",
            "Epoch 50/50\n",
            "96/96 [==============================] - 4s 38ms/step - loss: 0.0603 - accuracy: 0.9777 - val_loss: 0.2366 - val_accuracy: 0.9323\n"
          ],
          "name": "stdout"
        }
      ]
    },
    {
      "cell_type": "code",
      "metadata": {
        "id": "ZWxS2lDIxaZs",
        "colab": {
          "base_uri": "https://localhost:8080/"
        },
        "outputId": "228c00d5-49d3-4cd2-c165-69a7d134b10e"
      },
      "source": [
        "loss_train = cnnm.history['loss']\n",
        "loss_valid = cnnm.history['val_loss']\n",
        "accu_train = [100*i for i in cnnm.history['accuracy']]\n",
        "accu_valid = [100*i for i in cnnm.history['val_accuracy']]\n",
        "\n",
        "epochs = range(1, 1+n_epochs)\n",
        "\n",
        "print('              Training Loss is {:.4f}'.format(loss_train[-1]))\n",
        "print('            Validation Loss is {:.4f}'.format(loss_valid[-1]))\n",
        "print(' ')\n",
        "print('          Training Accuracy is {:.2f}%'.format(accu_train[-1]))\n",
        "print('        Validation Accuracy is {:.2f}%'.format(accu_valid[-1]))\n",
        "print(' ')\n",
        "print('  Maximum Training Accuracy is {:.2f}%'.format(max(accu_train)))\n",
        "print('Maximum Validation Accuracy is {:.2f}%'.format(max(accu_valid)))"
      ],
      "execution_count": 7,
      "outputs": [
        {
          "output_type": "stream",
          "text": [
            "              Training Loss is 0.0658\n",
            "            Validation Loss is 0.2366\n",
            " \n",
            "          Training Accuracy is 97.63%\n",
            "        Validation Accuracy is 93.23%\n",
            " \n",
            "  Maximum Training Accuracy is 97.63%\n",
            "Maximum Validation Accuracy is 93.41%\n"
          ],
          "name": "stdout"
        }
      ]
    },
    {
      "cell_type": "code",
      "metadata": {
        "id": "Nl_mIFOLKuOz",
        "colab": {
          "base_uri": "https://localhost:8080/",
          "height": 295
        },
        "outputId": "6a26116f-e8f7-4239-b4ea-e1ea86606e15"
      },
      "source": [
        "plt.plot(epochs, loss_train, color='lightseagreen', label='Training Loss')\n",
        "plt.plot(epochs, loss_valid, color='crimson', label='Validation Loss')\n",
        "plt.title('Training and Validation Loss')\n",
        "plt.xlabel('Epochs')\n",
        "plt.ylabel('Loss')\n",
        "plt.legend(['train', 'test'], loc='upper left')\n",
        "plt.show()"
      ],
      "execution_count": 8,
      "outputs": [
        {
          "output_type": "display_data",
          "data": {
            "image/png": "[encoded data removed]",
            "text/plain": [
              "<Figure size 432x288 with 1 Axes>"
            ]
          },
          "metadata": {
            "tags": [],
            "needs_background": "light"
          }
        }
      ]
    },
    {
      "cell_type": "code",
      "metadata": {
        "id": "JwlnRsXVOPR_",
        "colab": {
          "base_uri": "https://localhost:8080/",
          "height": 295
        },
        "outputId": "2e8cbbac-15ff-4f21-fa84-be377eab2811"
      },
      "source": [
        "plt.plot(epochs, accu_train, color='lightseagreen', label='Training Accuracy')\n",
        "plt.plot(epochs, accu_valid, color='crimson', label='Validation Accuracy')\n",
        "plt.title('Training and Validation Accuracy')\n",
        "plt.xlabel('Epochs')\n",
        "plt.ylabel('Accuracy')\n",
        "plt.legend()\n",
        "plt.show()"
      ],
      "execution_count": 9,
      "outputs": [
        {
          "output_type": "display_data",
          "data": {
            "image/png": "[encoded data removed]",
            "text/plain": [
              "<Figure size 432x288 with 1 Axes>"
            ]
          },
          "metadata": {
            "tags": [],
            "needs_background": "light"
          }
        }
      ]
    }
  ]
}